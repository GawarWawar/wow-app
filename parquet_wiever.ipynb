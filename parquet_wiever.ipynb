{
 "cells": [
  {
   "cell_type": "code",
   "execution_count": 92,
   "id": "f76c9485",
   "metadata": {},
   "outputs": [],
   "source": [
    "import pyarrow.parquet as pq\n",
    "import pandas as pd\n",
    "import pyarrow as pa\n",
    "\n",
    "\n",
    "def wiev_parquet (path_to_parquet):\n",
    "    table2 = pq.read_table(path_to_parquet)\n",
    "    return table2.to_pandas()"
   ]
  },
  {
   "cell_type": "code",
   "execution_count": 93,
   "id": "542b1107",
   "metadata": {},
   "outputs": [
    {
     "name": "stdout",
     "output_type": "stream",
     "text": [
      "!!!: run_members.parquet\n",
      "character_id             int64\n",
      "run_id                   Int64\n",
      "system_time     datetime64[ns]\n",
      "dtype: object\n",
      "An exception occurred\n",
      "An exception occurred\n",
      "!!!: characters_table.parquet\n",
      "character_id        int64\n",
      "character_name     object\n",
      "guild_id            Int64\n",
      "character_class    object\n",
      "dtype: object\n",
      "!!!: events_table.parquet\n",
      "event_id                 Int64\n",
      "run_id                   Int64\n",
      "boss_id                  Int64\n",
      "item_id                  Int64\n",
      "character_id           float64\n",
      "system_time     datetime64[ns]\n",
      "dtype: object\n",
      "!!!: guilds_table.parquet\n",
      "guild_id       Int64\n",
      "guild_name    object\n",
      "dtype: object\n",
      "An exception occurred\n",
      "!!!: runs_of_the_guilds_table.parquet\n",
      "run_id                    Int64\n",
      "guild_id                  Int64\n",
      "raid_id                   Int64\n",
      "date_finished    datetime64[ns]\n",
      "dtype: object\n",
      "An exception occurred\n",
      "An exception occurred\n"
     ]
    }
   ],
   "source": [
    "import os\n",
    "\n",
    "file_path_to_read = \"Data/Dynamic_database\"\n",
    "\n",
    "df_list = []\n",
    "for file in os.listdir(file_path_to_read):\n",
    "    if os.path.isfile(os.path.join(file_path_to_read, file)):\n",
    "        try: \n",
    "            df = wiev_parquet(f'{file_path_to_read}/{file}') \n",
    "            df_list.append(df)\n",
    "            print(\"!!!:\",file)\n",
    "            print(df.dtypes)\n",
    "        except:\n",
    "            print(\"An exception occurred\")\n"
   ]
  },
  {
   "cell_type": "code",
   "execution_count": 94,
   "id": "85f157a3",
   "metadata": {},
   "outputs": [
    {
     "name": "stdout",
     "output_type": "stream",
     "text": [
      "     character_id  run_id                system_time\n",
      "160             2      17 2023-02-07 20:25:15.132541\n",
      "161             3      17 2023-02-07 20:25:15.134987\n",
      "162             6      17 2023-02-07 20:25:15.137006\n",
      "163             7      17 2023-02-07 20:25:15.138775\n",
      "164             8      17 2023-02-07 20:25:15.140522\n",
      "165             9      17 2023-02-07 20:25:15.142349\n",
      "166            10      17 2023-02-07 20:25:15.144264\n",
      "167            11      17 2023-02-07 20:25:15.146503\n",
      "168            12      17 2023-02-07 20:25:15.148529\n",
      "169             1      18 2023-02-19 00:48:30.115119\n",
      "170             2      18 2023-02-19 00:48:30.125218\n",
      "171             3      18 2023-02-19 00:48:30.127826\n",
      "172             6      18 2023-02-19 00:48:30.129744\n",
      "173             7      18 2023-02-19 00:48:30.131627\n",
      "174             8      18 2023-02-19 00:48:30.133512\n",
      "175             9      18 2023-02-19 00:48:30.135341\n",
      "176            10      18 2023-02-19 00:48:30.137261\n",
      "177            11      18 2023-02-19 00:48:30.139012\n",
      "178            12      18 2023-02-19 00:48:30.140696\n",
      "179             1       2 2023-02-19 00:48:39.736586\n",
      "180             1       2 2023-02-22 03:07:12.087056\n",
      "181             1       2 2023-02-22 03:07:15.644060\n",
      "182             1       2 2023-02-22 03:07:18.480740\n",
      "183             1       2 2023-02-22 03:10:38.710656\n",
      "184             1       2 2023-02-22 03:10:39.743212\n",
      "185             1       1 2023-02-22 03:11:13.913341\n",
      "186             1       2 2023-02-22 03:11:13.916222\n",
      "187             2      13 2023-02-22 03:15:36.250876\n",
      "188             2      13 2023-02-22 03:15:56.923280\n",
      "189            13       2 2023-02-22 03:17:52.128909\n",
      "    character_id character_name  guild_id character_class\n",
      "0              0   place_holder         0    place_holder\n",
      "1              1          Gawar         1           rogue\n",
      "2              2      Gawarhehe         1           rogue\n",
      "3              3     Grathunder         1           druid\n",
      "4              4    Olixnothehe         2          priest\n",
      "5              5            VAV         3         paladin\n",
      "6              6         Valoor         1          shaman\n",
      "7              7           Olix         1          priest\n",
      "8              8         Magfor         1         paladin\n",
      "9              9      Ironteeth         1         warrior\n",
      "10            10        Meriela         1            mage\n",
      "11            11         Hensen         1         warlock\n",
      "12            12      Greemdawn         1     deathknight\n",
      "13            13          Cezan         1            mage\n",
      "   event_id  run_id  boss_id  item_id  character_id                system_time\n",
      "0         0       0        0        0           0.0 2000-01-01 00:00:00.000000\n",
      "1         1       1        0    39468           1.0 2023-02-07 15:54:53.790345\n",
      "2         2       1        1    39274           2.0 2023-02-07 15:54:53.793953\n",
      "3         3       1        1    39262           3.0 2023-02-07 15:54:53.796425\n",
      "4         6       1        2    39282           1.0 2023-02-07 15:54:53.802588\n",
      "5         7       1        2    39285           1.0 2023-02-07 15:54:53.805033\n",
      "7         9       1        2    39277           5.0 2023-02-19 00:51:36.695164\n",
      "8        20       1        2    39284           NaN 2023-02-22 03:07:59.974060\n",
      "   guild_id    guild_name\n",
      "0         0  place_holder\n",
      "1         1        GGuild\n",
      "2         2        OGuild\n",
      "3         3        VGuild\n",
      "4         4        TGuild\n",
      "    run_id  guild_id  raid_id              date_finished\n",
      "0        0         0        0 2023-02-19 00:48:30.140696\n",
      "1        1         1        0 2023-02-22 03:11:13.913341\n",
      "2        2         1        0 2023-02-19 00:48:30.140696\n",
      "3        3         1        0 2023-02-19 00:48:30.140696\n",
      "4        4         1        0 2023-02-19 00:48:30.140696\n",
      "5        5         1        0 2023-02-19 00:48:30.140696\n",
      "6        6         1        0 2023-02-19 00:48:30.140696\n",
      "7        7         1        0 2023-02-19 00:48:30.140696\n",
      "8        8         1        0 2023-02-19 00:48:30.140696\n",
      "9        9         1        0 2023-02-19 00:48:30.140696\n",
      "10      10         1        1 2023-02-19 00:48:30.140696\n",
      "11      11         1        1 2023-02-19 00:48:30.140696\n",
      "12      12         1        1 2023-02-19 00:48:30.140696\n",
      "13      13         1        1 2023-02-19 00:48:30.140696\n",
      "14      14         1        1 2023-02-19 00:48:30.140696\n",
      "15      15         1        1 2023-02-19 00:48:30.140696\n",
      "16      16         1        1 2023-02-19 00:48:30.140696\n",
      "17      17         1        1 2023-02-19 00:48:30.140696\n",
      "18      18         1        1 2023-02-19 00:48:30.140696\n"
     ]
    }
   ],
   "source": [
    "for i in df_list:\n",
    "    print(i.tail(30))"
   ]
  },
  {
   "cell_type": "code",
   "execution_count": null,
   "id": "04c38171",
   "metadata": {},
   "outputs": [],
   "source": []
  }
 ],
 "metadata": {
  "kernelspec": {
   "display_name": "Python 3 (ipykernel)",
   "language": "python",
   "name": "python3"
  },
  "language_info": {
   "codemirror_mode": {
    "name": "ipython",
    "version": 3
   },
   "file_extension": ".py",
   "mimetype": "text/x-python",
   "name": "python",
   "nbconvert_exporter": "python",
   "pygments_lexer": "ipython3",
   "version": "3.11.1"
  },
  "vscode": {
   "interpreter": {
    "hash": "aee8b7b246df8f9039afb4144a1f6fd8d2ca17a180786b69acc140d282b71a49"
   }
  }
 },
 "nbformat": 4,
 "nbformat_minor": 5
}
