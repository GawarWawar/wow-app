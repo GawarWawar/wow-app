{
 "cells": [
  {
   "cell_type": "code",
   "execution_count": 1,
   "id": "f76c9485",
   "metadata": {},
   "outputs": [],
   "source": [
    "import pyarrow.parquet as pq\n",
    "import pandas as pd\n",
    "import pyarrow as pa\n",
    "\n",
    "\n",
    "def wiev_parquet (path_to_parquet):\n",
    "    table2 = pq.read_table(path_to_parquet)\n",
    "    return table2.to_pandas()"
   ]
  },
  {
   "cell_type": "code",
   "execution_count": 2,
   "id": "b383fde6",
   "metadata": {},
   "outputs": [
    {
     "name": "stdout",
     "output_type": "stream",
     "text": [
      "character_id     int64\n",
      "run_id           int64\n",
      "system_time     object\n",
      "dtype: object\n",
      "An exception occurred\n",
      "An exception occurred\n",
      "character_id        int64\n",
      "character_name     object\n",
      "guild_id            int64\n",
      "character_class    object\n",
      "dtype: object\n",
      "event_id          int64\n",
      "run_id            int64\n",
      "boss_id           int64\n",
      "item_id           int64\n",
      "character_id    float64\n",
      "system_time      object\n",
      "dtype: object\n",
      "guild_id       int64\n",
      "guild_name    object\n",
      "dtype: object\n",
      "An exception occurred\n",
      "run_id            int64\n",
      "guild_id          int64\n",
      "raid_id           int64\n",
      "date_finished    object\n",
      "dtype: object\n",
      "An exception occurred\n",
      "An exception occurred\n"
     ]
    }
   ],
   "source": [
    "import os\n",
    "\n",
    "file_path_to_read = \"Data/Dynamic_database\"\n",
    "\n",
    "df_list = []\n",
    "for f in os.listdir(file_path_to_read):\n",
    "    if os.path.isfile(os.path.join(file_path_to_read, f)):\n",
    "        try: \n",
    "            df = wiev_parquet(f'{file_path_to_read}/{f}') \n",
    "            df_list.append(df)\n",
    "            print(df.dtypes)\n",
    "        except:\n",
    "            print(\"An exception occurred\")\n"
   ]
  },
  {
   "cell_type": "code",
   "execution_count": 3,
   "id": "546c5554",
   "metadata": {},
   "outputs": [
    {
     "data": {
      "text/plain": [
       "[     character_id  run_id                 system_time\n",
       " 0               0       0                place_holder\n",
       " 1               6       1  2023-02-07 15:41:27.026391\n",
       " 2               7       1  2023-02-07 15:41:27.030552\n",
       " 3               8       1  2023-02-07 15:41:27.034165\n",
       " 4               9       1  2023-02-07 15:41:27.038316\n",
       " ..            ...     ...                         ...\n",
       " 176            10      18  2023-02-19 00:48:30.137261\n",
       " 177            11      18  2023-02-19 00:48:30.139012\n",
       " 178            12      18  2023-02-19 00:48:30.140696\n",
       " 179             1       1  2023-02-19 00:48:39.734695\n",
       " 180             1       2  2023-02-19 00:48:39.736586\n",
       " \n",
       " [181 rows x 3 columns],\n",
       "     character_id character_name  guild_id character_class\n",
       " 0              0   place_holder         0    place_holder\n",
       " 1              1          Gawar         1           rogue\n",
       " 2              2      Gawarhehe         1           rogue\n",
       " 3              3     Grathunder         1           druid\n",
       " 4              4    Olixnothehe         2          priest\n",
       " 5              5            VAV         3         paladin\n",
       " 6              6         Valoor         1          shaman\n",
       " 7              7           Olix         1          priest\n",
       " 8              8         Magfor         1         paladin\n",
       " 9              9      Ironteeth         1         warrior\n",
       " 10            10        Meriela         1            mage\n",
       " 11            11         Hensen         1         warlock\n",
       " 12            12      Greemdawn         1     deathknight\n",
       " 13            13          Cezan         1            mage,\n",
       "    event_id  run_id  boss_id  item_id  character_id  \\\n",
       " 0         0       0        0        0           0.0   \n",
       " 1         1       1        0    39468           1.0   \n",
       " 2         2       1        1    39274           2.0   \n",
       " 3         3       1        1    39262           3.0   \n",
       " 4         6       1        2    39282           1.0   \n",
       " 5         7       1        2    39285           1.0   \n",
       " 6         8       1        1    39270           4.0   \n",
       " 7         9       1        2    39277           5.0   \n",
       " 8        10       1        2    39284           NaN   \n",
       " \n",
       "                   system_time  \n",
       " 0                place_holder  \n",
       " 1  2023-02-07 15:54:53.790345  \n",
       " 2  2023-02-07 15:54:53.793953  \n",
       " 3  2023-02-07 15:54:53.796425  \n",
       " 4  2023-02-07 15:54:53.802588  \n",
       " 5  2023-02-07 15:54:53.805033  \n",
       " 6  2023-02-19 00:51:36.690791  \n",
       " 7  2023-02-19 00:51:36.695164  \n",
       " 8  2023-02-19 00:51:36.701725  ,\n",
       "    guild_id    guild_name\n",
       " 0         0  place_holder\n",
       " 1         1        GGuild\n",
       " 2         2        OGuild\n",
       " 3         3        VGuild\n",
       " 4         4        TGuild,\n",
       "     run_id  guild_id  raid_id               date_finished\n",
       " 0        0         0        0                        None\n",
       " 1        1         1        0  2023-02-19 00:51:36.701725\n",
       " 2        2         1        0                        None\n",
       " 3        3         1        0                        None\n",
       " 4        4         1        0                        None\n",
       " 5        5         1        0                        None\n",
       " 6        6         1        0                        None\n",
       " 7        7         1        0                        None\n",
       " 8        8         1        0                        None\n",
       " 9        9         1        0                        None\n",
       " 10      10         1        1                        None\n",
       " 11      11         1        1                        None\n",
       " 12      12         1        1                        None\n",
       " 13      13         1        1                        None\n",
       " 14      14         1        1                        None\n",
       " 15      15         1        1                        None\n",
       " 16      16         1        1                        None\n",
       " 17      17         1        1                        None\n",
       " 18      18         1        1  2023-02-19 00:48:30.140696]"
      ]
     },
     "execution_count": 3,
     "metadata": {},
     "output_type": "execute_result"
    }
   ],
   "source": [
    "df_list"
   ]
  }
 ],
 "metadata": {
  "kernelspec": {
   "display_name": "Python 3 (ipykernel)",
   "language": "python",
   "name": "python3"
  },
  "language_info": {
   "codemirror_mode": {
    "name": "ipython",
    "version": 3
   },
   "file_extension": ".py",
   "mimetype": "text/x-python",
   "name": "python",
   "nbconvert_exporter": "python",
   "pygments_lexer": "ipython3",
   "version": "3.11.1"
  },
  "vscode": {
   "interpreter": {
    "hash": "aee8b7b246df8f9039afb4144a1f6fd8d2ca17a180786b69acc140d282b71a49"
   }
  }
 },
 "nbformat": 4,
 "nbformat_minor": 5
}
